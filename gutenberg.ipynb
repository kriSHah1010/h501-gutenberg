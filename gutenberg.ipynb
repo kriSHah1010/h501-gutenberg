{
 "cells": [
  {
   "cell_type": "code",
   "execution_count": 1,
   "id": "9f2ba1ce",
   "metadata": {},
   "outputs": [
    {
     "name": "stdout",
     "output_type": "stream",
     "text": [
      "\n",
      "# conda environments:\n",
      "#\n",
      "base                   C:\\Users\\krish\\miniconda3\n",
      "DS_webapp              C:\\Users\\krish\\miniconda3\\envs\\DS_webapp\n",
      "h501-gutenberg         C:\\Users\\krish\\miniconda3\\envs\\h501-gutenberg\n",
      "h501-gutenburg         C:\\Users\\krish\\miniconda3\\envs\\h501-gutenburg\n",
      "\n"
     ]
    }
   ],
   "source": [
    "!conda env list"
   ]
  }
 ],
 "metadata": {
  "kernelspec": {
   "display_name": ".venv (3.9.13)",
   "language": "python",
   "name": "python3"
  },
  "language_info": {
   "codemirror_mode": {
    "name": "ipython",
    "version": 3
   },
   "file_extension": ".py",
   "mimetype": "text/x-python",
   "name": "python",
   "nbconvert_exporter": "python",
   "pygments_lexer": "ipython3",
   "version": "3.9.13"
  }
 },
 "nbformat": 4,
 "nbformat_minor": 5
}
